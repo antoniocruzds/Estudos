{
  "nbformat": 4,
  "nbformat_minor": 0,
  "metadata": {
    "colab": {
      "name": "Numpy.ipynb",
      "provenance": [],
      "authorship_tag": "ABX9TyNs3G7lcNlU65DU65+ws7wD",
      "include_colab_link": true
    },
    "kernelspec": {
      "name": "python3",
      "display_name": "Python 3"
    }
  },
  "cells": [
    {
      "cell_type": "markdown",
      "metadata": {
        "id": "view-in-github",
        "colab_type": "text"
      },
      "source": [
        "<a href=\"https://colab.research.google.com/github/dataneto/Estudos/blob/master/Numpy.ipynb\" target=\"_parent\"><img src=\"https://colab.research.google.com/assets/colab-badge.svg\" alt=\"Open In Colab\"/></a>"
      ]
    },
    {
      "cell_type": "markdown",
      "metadata": {
        "id": "Tvj1wHVvSG6b"
      },
      "source": [
        "#Numpy\r\n",
        "O Numpy é uma bliblioteca para realizar operações numeriacas em python. \r\n",
        "\r\n",
        "* Ela suporta operações complexas envolvendo vetores e matrizes, sendo muito simplis e performatico de se resolver"
      ]
    },
    {
      "cell_type": "code",
      "metadata": {
        "id": "Cg5sgmu4Rsh-"
      },
      "source": [
        "#Importando a biblioteca\r\n",
        "import numpy as np "
      ],
      "execution_count": null,
      "outputs": []
    },
    {
      "cell_type": "code",
      "metadata": {
        "colab": {
          "base_uri": "https://localhost:8080/"
        },
        "id": "SsJpaWGRTY2M",
        "outputId": "11b495c7-6215-42ed-b647-b19e860943a3"
      },
      "source": [
        "#Criando um array de 1 dimensão\r\n",
        "uma_dim = np.array([1, 2, 3, 4, 5])\r\n",
        "\r\n",
        "#Mostrando o arrey criado\r\n",
        "uma_dim"
      ],
      "execution_count": null,
      "outputs": [
        {
          "output_type": "execute_result",
          "data": {
            "text/plain": [
              "array([1, 2, 3, 4, 5])"
            ]
          },
          "metadata": {
            "tags": []
          },
          "execution_count": 6
        }
      ]
    },
    {
      "cell_type": "code",
      "metadata": {
        "colab": {
          "base_uri": "https://localhost:8080/"
        },
        "id": "UYyNnYsvTnJg",
        "outputId": "3ebe5140-a2a9-41be-9fa4-bada22ffa105"
      },
      "source": [
        "#Mostrando o tipo do objeto\r\n",
        "type(uma_dim)"
      ],
      "execution_count": null,
      "outputs": [
        {
          "output_type": "execute_result",
          "data": {
            "text/plain": [
              "numpy.ndarray"
            ]
          },
          "metadata": {
            "tags": []
          },
          "execution_count": 7
        }
      ]
    },
    {
      "cell_type": "code",
      "metadata": {
        "colab": {
          "base_uri": "https://localhost:8080/"
        },
        "id": "-OH8VmXaUCUf",
        "outputId": "fa70ab46-7122-4923-f00e-257d6a2eed12"
      },
      "source": [
        "#Mostrando as dimençoes do arrey\r\n",
        "uma_dim.ndim"
      ],
      "execution_count": null,
      "outputs": [
        {
          "output_type": "execute_result",
          "data": {
            "text/plain": [
              "1"
            ]
          },
          "metadata": {
            "tags": []
          },
          "execution_count": 8
        }
      ]
    },
    {
      "cell_type": "code",
      "metadata": {
        "id": "JflzJms9UJ1j"
      },
      "source": [
        "#Criando um outro arrey com mais dimensões\r\n",
        "duas_dim = np.array([(1, 2, 3), (4, 5, 6)])"
      ],
      "execution_count": null,
      "outputs": []
    },
    {
      "cell_type": "code",
      "metadata": {
        "colab": {
          "base_uri": "https://localhost:8080/"
        },
        "id": "oHpZhFBtUcGf",
        "outputId": "d2a2265c-b0db-4fb3-dc20-5791541aaff5"
      },
      "source": [
        "#Mostrando o arrey criado\r\n",
        "duas_dim"
      ],
      "execution_count": null,
      "outputs": [
        {
          "output_type": "execute_result",
          "data": {
            "text/plain": [
              "array([['1', '2', '3'],\n",
              "       ['a', 'b', 'c']], dtype='<U21')"
            ]
          },
          "metadata": {
            "tags": []
          },
          "execution_count": 14
        }
      ]
    },
    {
      "cell_type": "code",
      "metadata": {
        "colab": {
          "base_uri": "https://localhost:8080/"
        },
        "id": "RVxQQCgEUngt",
        "outputId": "47546bc6-9856-4c9f-f469-177afca13735"
      },
      "source": [
        "#Mostrando as dimençoes do arrey\r\n",
        "duas_dim.ndim"
      ],
      "execution_count": null,
      "outputs": [
        {
          "output_type": "execute_result",
          "data": {
            "text/plain": [
              "2"
            ]
          },
          "metadata": {
            "tags": []
          },
          "execution_count": 15
        }
      ]
    },
    {
      "cell_type": "code",
      "metadata": {
        "id": "QhOAo33QVGZF",
        "colab": {
          "base_uri": "https://localhost:8080/"
        },
        "outputId": "b6b41d04-e00b-4840-bd25-731ff4b5792f"
      },
      "source": [
        "#Criando um array (de 5 linhas e 2 dimensões) com números aleatórios\n",
        "np.random.random((5,2))"
      ],
      "execution_count": null,
      "outputs": [
        {
          "output_type": "execute_result",
          "data": {
            "text/plain": [
              "array([[0.13155075, 0.42269006],\n",
              "       [0.27326818, 0.29992758],\n",
              "       [0.60780976, 0.46155119],\n",
              "       [0.66318675, 0.07540074],\n",
              "       [0.37785063, 0.85793564]])"
            ]
          },
          "metadata": {
            "tags": []
          },
          "execution_count": 16
        }
      ]
    },
    {
      "cell_type": "code",
      "metadata": {
        "id": "BREy7aoGVGZG",
        "colab": {
          "base_uri": "https://localhost:8080/"
        },
        "outputId": "3f87e658-e132-4cdf-eff8-e21881742f46"
      },
      "source": [
        "#Criando um array com valores iniciando do 10 até o 50, com intervalo de 5 em 5\n",
        "np.arange(10,50,5)"
      ],
      "execution_count": null,
      "outputs": [
        {
          "output_type": "execute_result",
          "data": {
            "text/plain": [
              "array([10, 15, 20, 25, 30, 35, 40, 45])"
            ]
          },
          "metadata": {
            "tags": []
          },
          "execution_count": 17
        }
      ]
    },
    {
      "cell_type": "code",
      "metadata": {
        "id": "iI-cJ5juVGZG",
        "colab": {
          "base_uri": "https://localhost:8080/"
        },
        "outputId": "a6a52542-9e87-46d0-efb1-03fd6813743b"
      },
      "source": [
        "#Criando um array linear de 0 a 2 com no máximo 9 elementos.\n",
        "np.linspace(0,2,9)"
      ],
      "execution_count": null,
      "outputs": [
        {
          "output_type": "execute_result",
          "data": {
            "text/plain": [
              "array([0.  , 0.25, 0.5 , 0.75, 1.  , 1.25, 1.5 , 1.75, 2.  ])"
            ]
          },
          "metadata": {
            "tags": []
          },
          "execution_count": 18
        }
      ]
    },
    {
      "cell_type": "code",
      "metadata": {
        "id": "imKoHg5jVGZH",
        "colab": {
          "base_uri": "https://localhost:8080/"
        },
        "outputId": "f0339d66-24bb-445b-94a6-4e5c212d92a4"
      },
      "source": [
        "#Criando um array(3x4) nulo (de valores zero).\n",
        "np.zeros((3,4))"
      ],
      "execution_count": null,
      "outputs": [
        {
          "output_type": "execute_result",
          "data": {
            "text/plain": [
              "array([[0., 0., 0., 0.],\n",
              "       [0., 0., 0., 0.],\n",
              "       [0., 0., 0., 0.]])"
            ]
          },
          "metadata": {
            "tags": []
          },
          "execution_count": 19
        }
      ]
    },
    {
      "cell_type": "markdown",
      "metadata": {
        "id": "g1ZMnPt1VGZH"
      },
      "source": [
        "## Arrays Vs Listas"
      ]
    },
    {
      "cell_type": "markdown",
      "metadata": {
        "id": "xz_J2AO6VGZI"
      },
      "source": [
        "- Arrays permitem fazer operações em **arrays inteiros** de forma rápida.\n",
        "- Listas não permitem operações em todos os elementos da lista.\n",
        "- Para operações em todos os elementos é preciso interar sobre toda a lista.\n",
        "- Listas em Python armazenam diferentes tipos de objetos (int, float, str, bool)\n",
        "- Arrays considera todos os elementos de tipos distintos como str\n"
      ]
    },
    {
      "cell_type": "code",
      "metadata": {
        "collapsed": true,
        "id": "7ZLCjlA7VGZI"
      },
      "source": [
        "#Criando uma lista em Python.\n",
        "lista = [1,2,3]"
      ],
      "execution_count": null,
      "outputs": []
    },
    {
      "cell_type": "code",
      "metadata": {
        "id": "ND18usYhVGZJ",
        "colab": {
          "base_uri": "https://localhost:8080/"
        },
        "outputId": "3b90453f-133e-4be7-9219-96e9b014efaa"
      },
      "source": [
        "#Mostrando a lista\r\n",
        "lista"
      ],
      "execution_count": null,
      "outputs": [
        {
          "output_type": "execute_result",
          "data": {
            "text/plain": [
              "[1, 2, 3]"
            ]
          },
          "metadata": {
            "tags": []
          },
          "execution_count": 21
        }
      ]
    },
    {
      "cell_type": "code",
      "metadata": {
        "id": "wGYEgGWuVGZK",
        "colab": {
          "base_uri": "https://localhost:8080/"
        },
        "outputId": "f80b46ec-42ac-492c-f261-d109fada567b"
      },
      "source": [
        "#Multiplicando os valores da lista por 2.\n",
        "lista * 2"
      ],
      "execution_count": null,
      "outputs": [
        {
          "output_type": "execute_result",
          "data": {
            "text/plain": [
              "[1, 2, 3, 1, 2, 3]"
            ]
          },
          "metadata": {
            "tags": []
          },
          "execution_count": 22
        }
      ]
    },
    {
      "cell_type": "markdown",
      "metadata": {
        "id": "PDhqBi5BXBkZ"
      },
      "source": [
        "    note que a lista foi duplicada, e não seus elementos"
      ]
    },
    {
      "cell_type": "code",
      "metadata": {
        "collapsed": true,
        "id": "t2HnxTuHVGZK"
      },
      "source": [
        "#Transformando a variável lista em um array Numpy\n",
        "lista = np.array(lista)"
      ],
      "execution_count": null,
      "outputs": []
    },
    {
      "cell_type": "code",
      "metadata": {
        "id": "HPqe4OJNVGZK",
        "colab": {
          "base_uri": "https://localhost:8080/"
        },
        "outputId": "f5325fd0-d89d-4ee5-cb72-6cc16ec89506"
      },
      "source": [
        "#Imprimindo o tipo do objeto.\n",
        "type(lista)"
      ],
      "execution_count": null,
      "outputs": [
        {
          "output_type": "execute_result",
          "data": {
            "text/plain": [
              "numpy.ndarray"
            ]
          },
          "metadata": {
            "tags": []
          },
          "execution_count": 24
        }
      ]
    },
    {
      "cell_type": "code",
      "metadata": {
        "id": "Jtwqgjh-VGZL",
        "colab": {
          "base_uri": "https://localhost:8080/"
        },
        "outputId": "dcf137d1-22b9-4201-dfaf-f6f2f991ba46"
      },
      "source": [
        "#Multiplicando cada elemento por 2.\n",
        "lista * 2"
      ],
      "execution_count": null,
      "outputs": [
        {
          "output_type": "execute_result",
          "data": {
            "text/plain": [
              "array([2, 4, 6])"
            ]
          },
          "metadata": {
            "tags": []
          },
          "execution_count": 25
        }
      ]
    },
    {
      "cell_type": "markdown",
      "metadata": {
        "id": "ot9D2-95XaGs"
      },
      "source": [
        "    Agora podemos ver que, em array, os elementos foram multiplicados por 2"
      ]
    },
    {
      "cell_type": "markdown",
      "metadata": {
        "id": "U4rIy045XqL5"
      },
      "source": [
        "### Calculadora de IMC"
      ]
    },
    {
      "cell_type": "code",
      "metadata": {
        "collapsed": true,
        "id": "hF0o9l6GVGZL"
      },
      "source": [
        "#Calcular IMC de pessoas.\n",
        "pesos = [67,81,120,90] #Adicionando uma lista com pesos\n",
        "alturas = [1.68,1.70,1.75,1.85] #Adicionando uma lista com valores"
      ],
      "execution_count": null,
      "outputs": []
    },
    {
      "cell_type": "code",
      "metadata": {
        "id": "ZJnF6b9xVGZL",
        "colab": {
          "base_uri": "https://localhost:8080/",
          "height": 184
        },
        "outputId": "2c6ba13d-4759-426e-ed77-55cd78d65803"
      },
      "source": [
        "#Fazendo o calculo usando as listas\n",
        "pesos / altura ** 2"
      ],
      "execution_count": null,
      "outputs": [
        {
          "output_type": "error",
          "ename": "TypeError",
          "evalue": "ignored",
          "traceback": [
            "\u001b[0;31m---------------------------------------------------------------------------\u001b[0m",
            "\u001b[0;31mTypeError\u001b[0m                                 Traceback (most recent call last)",
            "\u001b[0;32m<ipython-input-28-89301881b4c9>\u001b[0m in \u001b[0;36m<module>\u001b[0;34m()\u001b[0m\n\u001b[1;32m      1\u001b[0m \u001b[0;31m#Fazendo o calculo usando as listas\u001b[0m\u001b[0;34m\u001b[0m\u001b[0;34m\u001b[0m\u001b[0;34m\u001b[0m\u001b[0m\n\u001b[0;32m----> 2\u001b[0;31m \u001b[0mpesos\u001b[0m \u001b[0;34m/\u001b[0m \u001b[0maltura\u001b[0m \u001b[0;34m**\u001b[0m \u001b[0;36m2\u001b[0m\u001b[0;34m\u001b[0m\u001b[0;34m\u001b[0m\u001b[0m\n\u001b[0m",
            "\u001b[0;31mTypeError\u001b[0m: unsupported operand type(s) for ** or pow(): 'list' and 'int'"
          ]
        }
      ]
    },
    {
      "cell_type": "markdown",
      "metadata": {
        "id": "CEbY2ARvX9B4"
      },
      "source": [
        "    ele deu erro pois dividimos os valores de uma lista por outra, o que não é permitido no python"
      ]
    },
    {
      "cell_type": "code",
      "metadata": {
        "collapsed": true,
        "id": "_hlDvhW5VGZM"
      },
      "source": [
        "#Transformando as listas em arrays numpy\n",
        "pesos = np.array(pesos)\n",
        "altura = np.array(altura)"
      ],
      "execution_count": null,
      "outputs": []
    },
    {
      "cell_type": "code",
      "metadata": {
        "collapsed": true,
        "id": "dy93JeJIVGZM",
        "colab": {
          "base_uri": "https://localhost:8080/"
        },
        "outputId": "0bd12eb0-5c34-402c-973a-70c950e92e04"
      },
      "source": [
        "#Calculando o IMC pelos arrays\n",
        "pesos / altura **2"
      ],
      "execution_count": null,
      "outputs": [
        {
          "output_type": "execute_result",
          "data": {
            "text/plain": [
              "array([23.73866213, 28.02768166, 39.18367347, 26.29656684])"
            ]
          },
          "metadata": {
            "tags": []
          },
          "execution_count": 30
        }
      ]
    },
    {
      "cell_type": "code",
      "metadata": {
        "collapsed": true,
        "id": "F8r7PKgVVGZM"
      },
      "source": [
        "#Arrays Numpy armazenam elementos como strins quando estes não são inteiros ou float\n",
        "a = np.array([1,3,'Casa',True])"
      ],
      "execution_count": null,
      "outputs": []
    },
    {
      "cell_type": "code",
      "metadata": {
        "collapsed": true,
        "id": "HUHBmTDcVGZM",
        "colab": {
          "base_uri": "https://localhost:8080/"
        },
        "outputId": "466100fb-aa40-4a28-972d-b62df55862c2"
      },
      "source": [
        "#mostando o array\r\n",
        "a"
      ],
      "execution_count": null,
      "outputs": [
        {
          "output_type": "execute_result",
          "data": {
            "text/plain": [
              "array(['1', '3', 'Casa', 'True'], dtype='<U21')"
            ]
          },
          "metadata": {
            "tags": []
          },
          "execution_count": 34
        }
      ]
    },
    {
      "cell_type": "markdown",
      "metadata": {
        "id": "OmrxIGCQYrFo"
      },
      "source": [
        "    podemos ver que todos viraram str"
      ]
    },
    {
      "cell_type": "code",
      "metadata": {
        "collapsed": true,
        "id": "HqWhgCQzVGZN",
        "colab": {
          "base_uri": "https://localhost:8080/",
          "height": 201
        },
        "outputId": "acceb096-23e3-4d20-8a19-4ddc871c111c"
      },
      "source": [
        "#Multiplicando por 2\r\n",
        "a * 2 "
      ],
      "execution_count": null,
      "outputs": [
        {
          "output_type": "error",
          "ename": "UFuncTypeError",
          "evalue": "ignored",
          "traceback": [
            "\u001b[0;31m---------------------------------------------------------------------------\u001b[0m",
            "\u001b[0;31mUFuncTypeError\u001b[0m                            Traceback (most recent call last)",
            "\u001b[0;32m<ipython-input-33-e5e6ac566eed>\u001b[0m in \u001b[0;36m<module>\u001b[0;34m()\u001b[0m\n\u001b[1;32m      1\u001b[0m \u001b[0;31m#Multiplicando por 2\u001b[0m\u001b[0;34m\u001b[0m\u001b[0;34m\u001b[0m\u001b[0;34m\u001b[0m\u001b[0m\n\u001b[0;32m----> 2\u001b[0;31m \u001b[0ma\u001b[0m \u001b[0;34m*\u001b[0m \u001b[0;36m2\u001b[0m\u001b[0;34m\u001b[0m\u001b[0;34m\u001b[0m\u001b[0m\n\u001b[0m",
            "\u001b[0;31mUFuncTypeError\u001b[0m: ufunc 'multiply' did not contain a loop with signature matching types (dtype('<U21'), dtype('<U21')) -> dtype('<U21')"
          ]
        }
      ]
    },
    {
      "cell_type": "markdown",
      "metadata": {
        "id": "Ab4YN471Yi4o"
      },
      "source": [
        "    não conseguiremos multiplicar pois os valores são str [dtype('<U21')]"
      ]
    },
    {
      "cell_type": "code",
      "metadata": {
        "id": "YU2ZDrAuYhso"
      },
      "source": [
        ""
      ],
      "execution_count": null,
      "outputs": []
    },
    {
      "cell_type": "markdown",
      "metadata": {
        "id": "3IrfkkfaVGZN"
      },
      "source": [
        "## Métodos e Atributos Úteis"
      ]
    },
    {
      "cell_type": "code",
      "metadata": {
        "collapsed": true,
        "id": "EXvZSuOJVGZN"
      },
      "source": [
        "#Métodos disponíveis (digite o . pressione tab).\n",
        "duas_dim."
      ],
      "execution_count": null,
      "outputs": []
    },
    {
      "cell_type": "code",
      "metadata": {
        "id": "fVJDmP1WVGZO",
        "colab": {
          "base_uri": "https://localhost:8080/"
        },
        "outputId": "59328e48-b69b-4c72-d4dd-1de9623370e3"
      },
      "source": [
        "#Monstrando o array\r\n",
        "duas_dim"
      ],
      "execution_count": null,
      "outputs": [
        {
          "output_type": "execute_result",
          "data": {
            "text/plain": [
              "array([['1', '2', '3'],\n",
              "       ['a', 'b', 'c']], dtype='<U21')"
            ]
          },
          "metadata": {
            "tags": []
          },
          "execution_count": 35
        }
      ]
    },
    {
      "cell_type": "code",
      "metadata": {
        "id": "PEYFH6PbVGZO",
        "colab": {
          "base_uri": "https://localhost:8080/"
        },
        "outputId": "1188ecba-e015-476c-b28b-03697e52bd62"
      },
      "source": [
        "#Retorna a forma do array no formato linhas e colunas.\n",
        "duas_dim.shape"
      ],
      "execution_count": null,
      "outputs": [
        {
          "output_type": "execute_result",
          "data": {
            "text/plain": [
              "(2, 3)"
            ]
          },
          "metadata": {
            "tags": []
          },
          "execution_count": 36
        }
      ]
    },
    {
      "cell_type": "code",
      "metadata": {
        "id": "BKWBdZ6kVGZP",
        "colab": {
          "base_uri": "https://localhost:8080/"
        },
        "outputId": "64308780-798f-4c23-ceff-87084b8c528c"
      },
      "source": [
        "#Quantidade de dimensões.\n",
        "duas_dim.ndim"
      ],
      "execution_count": null,
      "outputs": [
        {
          "output_type": "execute_result",
          "data": {
            "text/plain": [
              "2"
            ]
          },
          "metadata": {
            "tags": []
          },
          "execution_count": 49
        }
      ]
    },
    {
      "cell_type": "code",
      "metadata": {
        "id": "Nle-f-_yVGZP",
        "colab": {
          "base_uri": "https://localhost:8080/"
        },
        "outputId": "b4188577-de0e-4710-ab3e-450e5dcb5d2e"
      },
      "source": [
        "#Imprimindo o valor máximo do array.\n",
        "uma_dim.max()"
      ],
      "execution_count": null,
      "outputs": [
        {
          "output_type": "execute_result",
          "data": {
            "text/plain": [
              "5"
            ]
          },
          "metadata": {
            "tags": []
          },
          "execution_count": 42
        }
      ]
    },
    {
      "cell_type": "code",
      "metadata": {
        "id": "icgkpbseVGZP",
        "colab": {
          "base_uri": "https://localhost:8080/"
        },
        "outputId": "290f68a9-ce9f-4fbd-8e72-d741898cc67f"
      },
      "source": [
        "# Imprimindo o valor mínimo.\n",
        "uma_dim.min()"
      ],
      "execution_count": null,
      "outputs": [
        {
          "output_type": "execute_result",
          "data": {
            "text/plain": [
              "1"
            ]
          },
          "metadata": {
            "tags": []
          },
          "execution_count": 44
        }
      ]
    },
    {
      "cell_type": "code",
      "metadata": {
        "id": "Iy3zdUtSVGZQ",
        "colab": {
          "base_uri": "https://localhost:8080/"
        },
        "outputId": "20959e50-f038-433c-8ad8-33821995d27e"
      },
      "source": [
        "# Imprimindo o valor médio.\n",
        "uma_dim.mean()"
      ],
      "execution_count": null,
      "outputs": [
        {
          "output_type": "execute_result",
          "data": {
            "text/plain": [
              "3.0"
            ]
          },
          "metadata": {
            "tags": []
          },
          "execution_count": 47
        }
      ]
    },
    {
      "cell_type": "code",
      "metadata": {
        "id": "43FrmYaCVGZQ",
        "colab": {
          "base_uri": "https://localhost:8080/"
        },
        "outputId": "419eeacb-0d3a-44fa-ba81-3cea0379c14b"
      },
      "source": [
        "#Imprimindo o desvio padrão.\n",
        "duas_dim.std()"
      ],
      "execution_count": null,
      "outputs": [
        {
          "output_type": "execute_result",
          "data": {
            "text/plain": [
              "1.707825127659933"
            ]
          },
          "metadata": {
            "tags": []
          },
          "execution_count": 50
        }
      ]
    },
    {
      "cell_type": "code",
      "metadata": {
        "id": "gmD3JPcgVGZR",
        "colab": {
          "base_uri": "https://localhost:8080/"
        },
        "outputId": "605985b1-bad0-4af1-b001-c75150bbe1cc"
      },
      "source": [
        "#mostrando o tipo dos dados\r\n",
        "duas_dim.dtype"
      ],
      "execution_count": null,
      "outputs": [
        {
          "output_type": "execute_result",
          "data": {
            "text/plain": [
              "dtype('int64')"
            ]
          },
          "metadata": {
            "tags": []
          },
          "execution_count": 53
        }
      ]
    },
    {
      "cell_type": "code",
      "metadata": {
        "id": "2Ble99OcVGZR",
        "colab": {
          "base_uri": "https://localhost:8080/"
        },
        "outputId": "fbb1dcbf-cfa9-4731-b0f0-169e1420b38b"
      },
      "source": [
        "#Mostrando a quantidade de elementos que tem no array\r\n",
        "duas_dim.size"
      ],
      "execution_count": null,
      "outputs": [
        {
          "output_type": "execute_result",
          "data": {
            "text/plain": [
              "6"
            ]
          },
          "metadata": {
            "tags": []
          },
          "execution_count": 55
        }
      ]
    },
    {
      "cell_type": "code",
      "metadata": {
        "id": "7WKG1lcyVGZS",
        "colab": {
          "base_uri": "https://localhost:8080/"
        },
        "outputId": "dfc702f8-dbdc-4af6-8ade-052287a02e40"
      },
      "source": [
        "#Mostrando a quantidade de itens em bytes\n",
        "duas_dim.itemsize"
      ],
      "execution_count": null,
      "outputs": [
        {
          "output_type": "execute_result",
          "data": {
            "text/plain": [
              "8"
            ]
          },
          "metadata": {
            "tags": []
          },
          "execution_count": 56
        }
      ]
    },
    {
      "cell_type": "code",
      "metadata": {
        "id": "QwsJ_40AVGZS",
        "colab": {
          "base_uri": "https://localhost:8080/"
        },
        "outputId": "ed5b714a-c031-44c3-8dce-96dd0e19447c"
      },
      "source": [
        "#Somando todos os elementos do array\n",
        "duas_dim.sum()"
      ],
      "execution_count": null,
      "outputs": [
        {
          "output_type": "execute_result",
          "data": {
            "text/plain": [
              "21"
            ]
          },
          "metadata": {
            "tags": []
          },
          "execution_count": 58
        }
      ]
    },
    {
      "cell_type": "markdown",
      "metadata": {
        "id": "0o2_TVEOVGZT"
      },
      "source": [
        "## Transformando Arrays"
      ]
    },
    {
      "cell_type": "code",
      "metadata": {
        "id": "ZMe3HtyUVGZV",
        "colab": {
          "base_uri": "https://localhost:8080/"
        },
        "outputId": "f283e9ed-cea6-4cb4-a4b0-72aca0f9c369"
      },
      "source": [
        "#Gerando a transposta da Matriz (Linha -> coluna)\n",
        "duas_dim.T"
      ],
      "execution_count": null,
      "outputs": [
        {
          "output_type": "execute_result",
          "data": {
            "text/plain": [
              "array([[1, 4],\n",
              "       [2, 5],\n",
              "       [3, 6]])"
            ]
          },
          "metadata": {
            "tags": []
          },
          "execution_count": 59
        }
      ]
    },
    {
      "cell_type": "code",
      "metadata": {
        "id": "DO-rDf0jVGZZ",
        "colab": {
          "base_uri": "https://localhost:8080/"
        },
        "outputId": "7bee1dc6-8b88-466e-9355-3d110ce05e46"
      },
      "source": [
        "#Transforma em uma matriz de uma linha.\n",
        "duas_dim.reshape(-1)"
      ],
      "execution_count": null,
      "outputs": [
        {
          "output_type": "execute_result",
          "data": {
            "text/plain": [
              "array([1, 2, 3, 4, 5, 6])"
            ]
          },
          "metadata": {
            "tags": []
          },
          "execution_count": 60
        }
      ]
    },
    {
      "cell_type": "code",
      "metadata": {
        "id": "3m9J5EagVGZc"
      },
      "source": [
        "#Criando um array de três dimensões, com numeros aleatorios\r\n",
        "tres_dim = np.random.random((5,3))"
      ],
      "execution_count": null,
      "outputs": []
    },
    {
      "cell_type": "code",
      "metadata": {
        "id": "Y1ZuHIvOVGZd",
        "colab": {
          "base_uri": "https://localhost:8080/"
        },
        "outputId": "0bf2b33e-27dd-4c8e-c133-1fe7dbb6df31"
      },
      "source": [
        "#verificando a dimensão\r\n",
        "tres_dim.shape"
      ],
      "execution_count": null,
      "outputs": [
        {
          "output_type": "execute_result",
          "data": {
            "text/plain": [
              "(5, 3)"
            ]
          },
          "metadata": {
            "tags": []
          },
          "execution_count": 62
        }
      ]
    },
    {
      "cell_type": "code",
      "metadata": {
        "id": "rRL_3EwSVGZd",
        "colab": {
          "base_uri": "https://localhost:8080/"
        },
        "outputId": "705ec866-c093-42b7-9a0f-649b0b1a5990"
      },
      "source": [
        "#Exibindo o array\r\n",
        "tres_dim"
      ],
      "execution_count": null,
      "outputs": [
        {
          "output_type": "execute_result",
          "data": {
            "text/plain": [
              "array([[0.9491954 , 0.56117938, 0.7561909 ],\n",
              "       [0.87497656, 0.1832262 , 0.96508686],\n",
              "       [0.94764482, 0.56817549, 0.35983136],\n",
              "       [0.84694315, 0.56128374, 0.07651149],\n",
              "       [0.03217788, 0.42399357, 0.9518778 ]])"
            ]
          },
          "metadata": {
            "tags": []
          },
          "execution_count": 63
        }
      ]
    },
    {
      "cell_type": "code",
      "metadata": {
        "id": "6AUKjFs-VGZe",
        "colab": {
          "base_uri": "https://localhost:8080/"
        },
        "outputId": "7c1b1e68-5425-4598-d54e-0d56461765db"
      },
      "source": [
        "#Transformando em uma matriz com 3 linhas e 5 colunas\n",
        "tres_dim.reshape(3,5)"
      ],
      "execution_count": null,
      "outputs": [
        {
          "output_type": "execute_result",
          "data": {
            "text/plain": [
              "array([[0.9491954 , 0.56117938, 0.7561909 , 0.87497656, 0.1832262 ],\n",
              "       [0.96508686, 0.94764482, 0.56817549, 0.35983136, 0.84694315],\n",
              "       [0.56128374, 0.07651149, 0.03217788, 0.42399357, 0.9518778 ]])"
            ]
          },
          "metadata": {
            "tags": []
          },
          "execution_count": 64
        }
      ]
    },
    {
      "cell_type": "code",
      "metadata": {
        "id": "1Fp5uFGjVGZf",
        "colab": {
          "base_uri": "https://localhost:8080/"
        },
        "outputId": "e8973176-571a-4b9a-e8c1-48420c766bfd"
      },
      "source": [
        "#Transformando em uma matriz de linha unica\r\n",
        "tres_dim.reshape(-1)"
      ],
      "execution_count": null,
      "outputs": [
        {
          "output_type": "execute_result",
          "data": {
            "text/plain": [
              "array([0.9491954 , 0.56117938, 0.7561909 , 0.87497656, 0.1832262 ,\n",
              "       0.96508686, 0.94764482, 0.56817549, 0.35983136, 0.84694315,\n",
              "       0.56128374, 0.07651149, 0.03217788, 0.42399357, 0.9518778 ])"
            ]
          },
          "metadata": {
            "tags": []
          },
          "execution_count": 65
        }
      ]
    },
    {
      "cell_type": "code",
      "metadata": {
        "id": "zzlUMy0nVGZg",
        "colab": {
          "base_uri": "https://localhost:8080/"
        },
        "outputId": "70689292-5098-4825-cd22-e43457882db7"
      },
      "source": [
        "#Criando uma variavel para armazenar um array de uma linha e 15 colunas\n",
        "t = tres_dim.reshape(1,15)\n",
        "t"
      ],
      "execution_count": null,
      "outputs": [
        {
          "output_type": "execute_result",
          "data": {
            "text/plain": [
              "array([[0.9491954 , 0.56117938, 0.7561909 , 0.87497656, 0.1832262 ,\n",
              "        0.96508686, 0.94764482, 0.56817549, 0.35983136, 0.84694315,\n",
              "        0.56128374, 0.07651149, 0.03217788, 0.42399357, 0.9518778 ]])"
            ]
          },
          "metadata": {
            "tags": []
          },
          "execution_count": 66
        }
      ]
    },
    {
      "cell_type": "code",
      "metadata": {
        "collapsed": true,
        "id": "Sabad0WQVGZh"
      },
      "source": [
        "#Adicionando elementos a um array, 10 na posição 0.\n",
        "duas_dim = np.insert(duas_dim,0,10)"
      ],
      "execution_count": null,
      "outputs": []
    },
    {
      "cell_type": "code",
      "metadata": {
        "id": "dt-93ekHVGZi",
        "colab": {
          "base_uri": "https://localhost:8080/"
        },
        "outputId": "6cdb01fe-b3fd-49da-a086-7c6eb93bb24f"
      },
      "source": [
        "duas_dim"
      ],
      "execution_count": null,
      "outputs": [
        {
          "output_type": "execute_result",
          "data": {
            "text/plain": [
              "array([10,  1,  2,  3,  4,  5,  6])"
            ]
          },
          "metadata": {
            "tags": []
          },
          "execution_count": 68
        }
      ]
    },
    {
      "cell_type": "code",
      "metadata": {
        "collapsed": true,
        "id": "bT4XltXeVGZi"
      },
      "source": [
        "#Apagando o elemento da primeira posição do array.\n",
        "duas_dim = np.delete(duas_dim,[0])"
      ],
      "execution_count": null,
      "outputs": []
    },
    {
      "cell_type": "code",
      "metadata": {
        "id": "CPejtRGuVGZj",
        "colab": {
          "base_uri": "https://localhost:8080/"
        },
        "outputId": "05cb386c-1ced-44f6-e737-124a33e15e82"
      },
      "source": [
        "duas_dim"
      ],
      "execution_count": null,
      "outputs": [
        {
          "output_type": "execute_result",
          "data": {
            "text/plain": [
              "array([1, 2, 3, 4, 5, 6])"
            ]
          },
          "metadata": {
            "tags": []
          },
          "execution_count": 70
        }
      ]
    },
    {
      "cell_type": "code",
      "metadata": {
        "collapsed": true,
        "id": "BVbtVYeaVGZj"
      },
      "source": [
        "#Gerando um arquivo .txt a partir de um array\n",
        "np.savetxt(\"dataset_array.txt\",duas_dim, delimiter=',')"
      ],
      "execution_count": null,
      "outputs": []
    },
    {
      "cell_type": "code",
      "metadata": {
        "id": "_ce_tH3vf2LR"
      },
      "source": [
        ""
      ],
      "execution_count": null,
      "outputs": []
    }
  ]
}